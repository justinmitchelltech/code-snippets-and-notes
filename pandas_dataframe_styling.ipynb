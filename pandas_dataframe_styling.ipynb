{
 "cells": [
  {
   "cell_type": "code",
   "execution_count": 1,
   "metadata": {},
   "outputs": [],
   "source": [
    "import pandas as pd\n",
    "# Test commmit"
   ]
  },
  {
   "cell_type": "code",
   "execution_count": 2,
   "metadata": {},
   "outputs": [
    {
     "data": {
      "text/html": [
       "<div>\n",
       "<style scoped>\n",
       "    .dataframe tbody tr th:only-of-type {\n",
       "        vertical-align: middle;\n",
       "    }\n",
       "\n",
       "    .dataframe tbody tr th {\n",
       "        vertical-align: top;\n",
       "    }\n",
       "\n",
       "    .dataframe thead th {\n",
       "        text-align: right;\n",
       "    }\n",
       "</style>\n",
       "<table border=\"1\" class=\"dataframe\">\n",
       "  <thead>\n",
       "    <tr style=\"text-align: right;\">\n",
       "      <th></th>\n",
       "      <th>A</th>\n",
       "      <th>B</th>\n",
       "      <th>C</th>\n",
       "    </tr>\n",
       "  </thead>\n",
       "  <tbody>\n",
       "    <tr>\n",
       "      <th>0</th>\n",
       "      <td>0.2</td>\n",
       "      <td>1.1</td>\n",
       "      <td>2.2</td>\n",
       "    </tr>\n",
       "    <tr>\n",
       "      <th>1</th>\n",
       "      <td>0.4</td>\n",
       "      <td>1.0</td>\n",
       "      <td>2.0</td>\n",
       "    </tr>\n",
       "    <tr>\n",
       "      <th>2</th>\n",
       "      <td>1.0</td>\n",
       "      <td>1.4</td>\n",
       "      <td>1.0</td>\n",
       "    </tr>\n",
       "  </tbody>\n",
       "</table>\n",
       "</div>"
      ],
      "text/plain": [
       "     A    B    C\n",
       "0  0.2  1.1  2.2\n",
       "1  0.4  1.0  2.0\n",
       "2  1.0  1.4  1.0"
      ]
     },
     "execution_count": 2,
     "metadata": {},
     "output_type": "execute_result"
    }
   ],
   "source": [
    "my_data = pd.DataFrame({'A': [0.2, 0.4, 1], \n",
    "                        'B': [1.1, 1, 1.4], \n",
    "                        'C': [2.2, 2, 1]})\n",
    "my_data"
   ]
  },
  {
   "cell_type": "markdown",
   "metadata": {},
   "source": [
    "### Coloring\n",
    "\n",
    "Note that colors do not show up on the GitHub .ipynb viewer."
   ]
  },
  {
   "cell_type": "code",
   "execution_count": 3,
   "metadata": {},
   "outputs": [
    {
     "data": {
      "text/html": [
       "<style type=\"text/css\">\n",
       "#T_55fde_row0_col1, #T_55fde_row0_col2, #T_55fde_row1_col2, #T_55fde_row2_col1 {\n",
       "  background: blue;\n",
       "}\n",
       "#T_55fde_row1_col1, #T_55fde_row2_col0, #T_55fde_row2_col2 {\n",
       "  background: red;\n",
       "}\n",
       "</style>\n",
       "<table id=\"T_55fde_\">\n",
       "  <thead>\n",
       "    <tr>\n",
       "      <th class=\"blank level0\" >&nbsp;</th>\n",
       "      <th class=\"col_heading level0 col0\" >A</th>\n",
       "      <th class=\"col_heading level0 col1\" >B</th>\n",
       "      <th class=\"col_heading level0 col2\" >C</th>\n",
       "    </tr>\n",
       "  </thead>\n",
       "  <tbody>\n",
       "    <tr>\n",
       "      <th id=\"T_55fde_level0_row0\" class=\"row_heading level0 row0\" >0</th>\n",
       "      <td id=\"T_55fde_row0_col0\" class=\"data row0 col0\" >0.200000</td>\n",
       "      <td id=\"T_55fde_row0_col1\" class=\"data row0 col1\" >1.100000</td>\n",
       "      <td id=\"T_55fde_row0_col2\" class=\"data row0 col2\" >2.200000</td>\n",
       "    </tr>\n",
       "    <tr>\n",
       "      <th id=\"T_55fde_level0_row1\" class=\"row_heading level0 row1\" >1</th>\n",
       "      <td id=\"T_55fde_row1_col0\" class=\"data row1 col0\" >0.400000</td>\n",
       "      <td id=\"T_55fde_row1_col1\" class=\"data row1 col1\" >1.000000</td>\n",
       "      <td id=\"T_55fde_row1_col2\" class=\"data row1 col2\" >2.000000</td>\n",
       "    </tr>\n",
       "    <tr>\n",
       "      <th id=\"T_55fde_level0_row2\" class=\"row_heading level0 row2\" >2</th>\n",
       "      <td id=\"T_55fde_row2_col0\" class=\"data row2 col0\" >1.000000</td>\n",
       "      <td id=\"T_55fde_row2_col1\" class=\"data row2 col1\" >1.400000</td>\n",
       "      <td id=\"T_55fde_row2_col2\" class=\"data row2 col2\" >1.000000</td>\n",
       "    </tr>\n",
       "  </tbody>\n",
       "</table>\n"
      ],
      "text/plain": [
       "<pandas.io.formats.style.Styler at 0x7fb15e71f430>"
      ]
     },
     "execution_count": 3,
     "metadata": {},
     "output_type": "execute_result"
    }
   ],
   "source": [
    "my_data_colored = my_data.style.apply(lambda x: [\"background: red\" if v == 1 else \"\" for v in x], axis=0)\\\n",
    "                               .apply(lambda x: [\"background: blue\" if v > 1 else \"\" for v in x], axis=0)\n",
    "my_data_colored"
   ]
  },
  {
   "cell_type": "code",
   "execution_count": 4,
   "metadata": {},
   "outputs": [
    {
     "data": {
      "text/html": [
       "<style type=\"text/css\">\n",
       "#T_f49b5_row0_col2, #T_f49b5_row2_col0, #T_f49b5_row2_col1 {\n",
       "  background: purple;\n",
       "}\n",
       "</style>\n",
       "<table id=\"T_f49b5_\">\n",
       "  <thead>\n",
       "    <tr>\n",
       "      <th class=\"blank level0\" >&nbsp;</th>\n",
       "      <th class=\"col_heading level0 col0\" >A</th>\n",
       "      <th class=\"col_heading level0 col1\" >B</th>\n",
       "      <th class=\"col_heading level0 col2\" >C</th>\n",
       "    </tr>\n",
       "  </thead>\n",
       "  <tbody>\n",
       "    <tr>\n",
       "      <th id=\"T_f49b5_level0_row0\" class=\"row_heading level0 row0\" >0</th>\n",
       "      <td id=\"T_f49b5_row0_col0\" class=\"data row0 col0\" >0.200000</td>\n",
       "      <td id=\"T_f49b5_row0_col1\" class=\"data row0 col1\" >1.100000</td>\n",
       "      <td id=\"T_f49b5_row0_col2\" class=\"data row0 col2\" >2.200000</td>\n",
       "    </tr>\n",
       "    <tr>\n",
       "      <th id=\"T_f49b5_level0_row1\" class=\"row_heading level0 row1\" >1</th>\n",
       "      <td id=\"T_f49b5_row1_col0\" class=\"data row1 col0\" >0.400000</td>\n",
       "      <td id=\"T_f49b5_row1_col1\" class=\"data row1 col1\" >1.000000</td>\n",
       "      <td id=\"T_f49b5_row1_col2\" class=\"data row1 col2\" >2.000000</td>\n",
       "    </tr>\n",
       "    <tr>\n",
       "      <th id=\"T_f49b5_level0_row2\" class=\"row_heading level0 row2\" >2</th>\n",
       "      <td id=\"T_f49b5_row2_col0\" class=\"data row2 col0\" >1.000000</td>\n",
       "      <td id=\"T_f49b5_row2_col1\" class=\"data row2 col1\" >1.400000</td>\n",
       "      <td id=\"T_f49b5_row2_col2\" class=\"data row2 col2\" >1.000000</td>\n",
       "    </tr>\n",
       "  </tbody>\n",
       "</table>\n"
      ],
      "text/plain": [
       "<pandas.io.formats.style.Styler at 0x7fb15e71f070>"
      ]
     },
     "execution_count": 4,
     "metadata": {},
     "output_type": "execute_result"
    }
   ],
   "source": [
    "# To color the maximum value in each column \n",
    "my_data_colored_ex1 = my_data.style.apply(lambda x: [\"background: purple\" if v == max(x) else \"\" for v in x], axis=0)\n",
    "my_data_colored_ex1"
   ]
  },
  {
   "cell_type": "code",
   "execution_count": 5,
   "metadata": {},
   "outputs": [
    {
     "data": {
      "text/html": [
       "<style type=\"text/css\">\n",
       "#T_0be6e_row0_col2, #T_0be6e_row1_col2, #T_0be6e_row2_col1 {\n",
       "  background: orange;\n",
       "}\n",
       "</style>\n",
       "<table id=\"T_0be6e_\">\n",
       "  <thead>\n",
       "    <tr>\n",
       "      <th class=\"blank level0\" >&nbsp;</th>\n",
       "      <th class=\"col_heading level0 col0\" >A</th>\n",
       "      <th class=\"col_heading level0 col1\" >B</th>\n",
       "      <th class=\"col_heading level0 col2\" >C</th>\n",
       "    </tr>\n",
       "  </thead>\n",
       "  <tbody>\n",
       "    <tr>\n",
       "      <th id=\"T_0be6e_level0_row0\" class=\"row_heading level0 row0\" >0</th>\n",
       "      <td id=\"T_0be6e_row0_col0\" class=\"data row0 col0\" >0.200000</td>\n",
       "      <td id=\"T_0be6e_row0_col1\" class=\"data row0 col1\" >1.100000</td>\n",
       "      <td id=\"T_0be6e_row0_col2\" class=\"data row0 col2\" >2.200000</td>\n",
       "    </tr>\n",
       "    <tr>\n",
       "      <th id=\"T_0be6e_level0_row1\" class=\"row_heading level0 row1\" >1</th>\n",
       "      <td id=\"T_0be6e_row1_col0\" class=\"data row1 col0\" >0.400000</td>\n",
       "      <td id=\"T_0be6e_row1_col1\" class=\"data row1 col1\" >1.000000</td>\n",
       "      <td id=\"T_0be6e_row1_col2\" class=\"data row1 col2\" >2.000000</td>\n",
       "    </tr>\n",
       "    <tr>\n",
       "      <th id=\"T_0be6e_level0_row2\" class=\"row_heading level0 row2\" >2</th>\n",
       "      <td id=\"T_0be6e_row2_col0\" class=\"data row2 col0\" >1.000000</td>\n",
       "      <td id=\"T_0be6e_row2_col1\" class=\"data row2 col1\" >1.400000</td>\n",
       "      <td id=\"T_0be6e_row2_col2\" class=\"data row2 col2\" >1.000000</td>\n",
       "    </tr>\n",
       "  </tbody>\n",
       "</table>\n"
      ],
      "text/plain": [
       "<pandas.io.formats.style.Styler at 0x7fb15e71e890>"
      ]
     },
     "execution_count": 5,
     "metadata": {},
     "output_type": "execute_result"
    }
   ],
   "source": [
    "# To color the maximum value in each row \n",
    "my_data_colored_ex2 = my_data.style.apply(lambda x: [\"background: orange\" if v == max(x) else \"\" for v in x], axis=1)\n",
    "my_data_colored_ex2"
   ]
  },
  {
   "cell_type": "markdown",
   "metadata": {},
   "source": [
    "### Formatting"
   ]
  },
  {
   "cell_type": "code",
   "execution_count": 6,
   "metadata": {},
   "outputs": [
    {
     "data": {
      "text/html": [
       "<style type=\"text/css\">\n",
       "#T_55fde_row0_col1, #T_55fde_row0_col2, #T_55fde_row1_col2, #T_55fde_row2_col1 {\n",
       "  background: blue;\n",
       "}\n",
       "#T_55fde_row1_col1, #T_55fde_row2_col0, #T_55fde_row2_col2 {\n",
       "  background: red;\n",
       "}\n",
       "</style>\n",
       "<table id=\"T_55fde_\">\n",
       "  <thead>\n",
       "    <tr>\n",
       "      <th class=\"blank level0\" >&nbsp;</th>\n",
       "      <th class=\"col_heading level0 col0\" >A</th>\n",
       "      <th class=\"col_heading level0 col1\" >B</th>\n",
       "      <th class=\"col_heading level0 col2\" >C</th>\n",
       "    </tr>\n",
       "  </thead>\n",
       "  <tbody>\n",
       "    <tr>\n",
       "      <th id=\"T_55fde_level0_row0\" class=\"row_heading level0 row0\" >0</th>\n",
       "      <td id=\"T_55fde_row0_col0\" class=\"data row0 col0\" >0.2 units</td>\n",
       "      <td id=\"T_55fde_row0_col1\" class=\"data row0 col1\" >1.1 units</td>\n",
       "      <td id=\"T_55fde_row0_col2\" class=\"data row0 col2\" >2.2 units</td>\n",
       "    </tr>\n",
       "    <tr>\n",
       "      <th id=\"T_55fde_level0_row1\" class=\"row_heading level0 row1\" >1</th>\n",
       "      <td id=\"T_55fde_row1_col0\" class=\"data row1 col0\" >0.4 units</td>\n",
       "      <td id=\"T_55fde_row1_col1\" class=\"data row1 col1\" >1.0 units</td>\n",
       "      <td id=\"T_55fde_row1_col2\" class=\"data row1 col2\" >2.0 units</td>\n",
       "    </tr>\n",
       "    <tr>\n",
       "      <th id=\"T_55fde_level0_row2\" class=\"row_heading level0 row2\" >2</th>\n",
       "      <td id=\"T_55fde_row2_col0\" class=\"data row2 col0\" >1.0 units</td>\n",
       "      <td id=\"T_55fde_row2_col1\" class=\"data row2 col1\" >1.4 units</td>\n",
       "      <td id=\"T_55fde_row2_col2\" class=\"data row2 col2\" >1.0 units</td>\n",
       "    </tr>\n",
       "  </tbody>\n",
       "</table>\n"
      ],
      "text/plain": [
       "<pandas.io.formats.style.Styler at 0x7fb15e71f430>"
      ]
     },
     "execution_count": 6,
     "metadata": {},
     "output_type": "execute_result"
    }
   ],
   "source": [
    "format_style = '{:.1f} units'\n",
    "my_data_colored_and_formatted = my_data_colored.format(format_style)\n",
    "my_data_colored_and_formatted"
   ]
  }
 ],
 "metadata": {
  "interpreter": {
   "hash": "2058096a38bbd5092599007c7485398d55021a893dd546e1806cbbf49e6f5f49"
  },
  "kernelspec": {
   "display_name": "Python 3.10.0 ('py310-DS')",
   "language": "python",
   "name": "python3"
  },
  "language_info": {
   "codemirror_mode": {
    "name": "ipython",
    "version": 3
   },
   "file_extension": ".py",
   "mimetype": "text/x-python",
   "name": "python",
   "nbconvert_exporter": "python",
   "pygments_lexer": "ipython3",
   "version": "3.10.0"
  },
  "orig_nbformat": 4
 },
 "nbformat": 4,
 "nbformat_minor": 2
}
